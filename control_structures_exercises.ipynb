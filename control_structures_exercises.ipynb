{
 "cells": [
  {
   "cell_type": "code",
   "execution_count": 1,
   "id": "a8970843",
   "metadata": {},
   "outputs": [
    {
     "name": "stdout",
     "output_type": "stream",
     "text": [
      "Today is not Monday\n"
     ]
    }
   ],
   "source": [
    "# 1.a. Prompt the user for a day of the week, print out whether the day is Monday or not.\n",
    "\n",
    "day_of_the_week = \"Tuesday\"\n",
    "\n",
    "if day_of_the_week == \"Monday\":\n",
    "    print(\"Today is Monday\")\n",
    "elif day_of_the_week == \"Tuesday\":\n",
    "    print(\"Today is not Monday\")\n",
    "elif day_of_the_week == \"Wednesday\":\n",
    "    print(\"Today is not Monday\")\n",
    "elif day_of_the_week == \"Thursday\":\n",
    "    print(\"Today is not Monday\")\n",
    "elif day_of_the_week == \"Friday\":\n",
    "    print(\"Today is not Monday\")\n",
    "elif day_of_the_week == \"Saturday\":\n",
    "    print(\"Today is not Monday\")\n",
    "elif day_of_the_week == \"Sunday\":\n",
    "    print(\"Today is not Monday\")\n",
    "else:\n",
    "    print(\"Error\")"
   ]
  },
  {
   "cell_type": "code",
   "execution_count": 2,
   "id": "1d3259d1",
   "metadata": {},
   "outputs": [
    {
     "name": "stdout",
     "output_type": "stream",
     "text": [
      "Today is a weekend\n"
     ]
    }
   ],
   "source": [
    "# 1.b. Prompt the user for a day of the week, print out whether the day is a weekday or a weekend.\n",
    "\n",
    "day_of_the_week = \"Friday\"\n",
    "\n",
    "if day_of_the_week == \"Monday\":\n",
    "    print(\"Today is a weekday\")\n",
    "elif day_of_the_week == \"Tuesday\":\n",
    "    print(\"Today is a weekday\")\n",
    "elif day_of_the_week == \"Wednesday\":\n",
    "    print(\"Today is a weekday\")\n",
    "elif day_of_the_week == \"Thursday\":\n",
    "    print(\"Today is a weekday\")\n",
    "elif day_of_the_week == \"Friday\":\n",
    "    print(\"Today is a weekend\")\n",
    "elif day_of_the_week == \"Saturday\":\n",
    "    print(\"Today is a weekend\")\n",
    "elif day_of_the_week == \"Sunday\":\n",
    "    print(\"Today is a weekend\")\n",
    "else:\n",
    "    print(\"Error\")"
   ]
  },
  {
   "cell_type": "code",
   "execution_count": 3,
   "id": "f8511991",
   "metadata": {},
   "outputs": [
    {
     "name": "stdout",
     "output_type": "stream",
     "text": [
      "602.0\n"
     ]
    }
   ],
   "source": [
    "# 1.c. Create variables and make up values for: the number of hours worked in one week, the hourly rate, and \n",
    "# how much the week's paycheck will be. Write the python code that calculates the weekly paycheck. \n",
    "# You get paid time and a half if you work more than 40 hours.\n",
    "\n",
    "number_of_hours_worked_in_one_week = 42\n",
    "\n",
    "hourly_rate = 14\n",
    "\n",
    "if number_of_hours_worked_in_one_week <= 40:\n",
    "    paycheck_amount_this_week = number_of_hours_worked_in_one_week * hourly_rate\n",
    "elif number_of_hours_worked_in_one_week > 40:\n",
    "    paycheck_amount_this_week = 560 + ((number_of_hours_worked_in_one_week - 40) * 14 * 1.5)\n",
    "\n",
    "print(paycheck_amount_this_week)"
   ]
  },
  {
   "cell_type": "code",
   "execution_count": 4,
   "id": "0bbbd004",
   "metadata": {},
   "outputs": [
    {
     "name": "stdout",
     "output_type": "stream",
     "text": [
      "5\n",
      "6\n",
      "7\n",
      "8\n",
      "9\n",
      "10\n",
      "11\n",
      "12\n",
      "13\n",
      "14\n",
      "15\n"
     ]
    }
   ],
   "source": [
    "# 2.a.1. Create an integer variable i with a value of 5. Create a while loop that runs so long as i is \n",
    "# less than or equal to 15. Each loop iteration, output the current value of i, then increment i by one.\n",
    "\n",
    "i = 5\n",
    "while i <= 15:\n",
    "    print(i)\n",
    "    i += 1\n"
   ]
  },
  {
   "cell_type": "code",
   "execution_count": 5,
   "id": "ae8dd90c",
   "metadata": {},
   "outputs": [
    {
     "name": "stdout",
     "output_type": "stream",
     "text": [
      "2\n",
      "4\n",
      "16\n",
      "256\n",
      "65536\n"
     ]
    }
   ],
   "source": [
    "# 2.a.2. Create a while loop that will count by 2's starting with 0 and ending at 100. \n",
    "# Follow each number with a new line. Alter your loop to count backwards by 5's from 100 to -10.\n",
    "# Create a while loop that starts at 2, and displays the number squared on each line while the number\n",
    "# is less than 1,000,000.\n",
    "\n",
    "i = 2\n",
    "while i <= 1000000:\n",
    "    print(i)\n",
    "    i **= 2"
   ]
  },
  {
   "cell_type": "code",
   "execution_count": 6,
   "id": "e4e006d8",
   "metadata": {},
   "outputs": [
    {
     "name": "stdout",
     "output_type": "stream",
     "text": [
      "100\n",
      "95\n",
      "90\n",
      "85\n",
      "80\n",
      "75\n",
      "70\n",
      "65\n",
      "60\n",
      "55\n",
      "50\n",
      "45\n",
      "40\n",
      "35\n",
      "30\n",
      "25\n",
      "20\n",
      "15\n",
      "10\n",
      "5\n"
     ]
    }
   ],
   "source": [
    "# 2.a.3. Write a loop that uses print to create the output shown below:\n",
    "\n",
    "i = 100\n",
    "while i >= 5:\n",
    "    print(i)\n",
    "    i -= 5"
   ]
  },
  {
   "cell_type": "code",
   "execution_count": 7,
   "id": "94df2aac",
   "metadata": {},
   "outputs": [
    {
     "name": "stdout",
     "output_type": "stream",
     "text": [
      "7 x 1 = 7\n",
      "7 x 2 = 14\n",
      "7 x 3 = 21\n",
      "7 x 4 = 28\n",
      "7 x 5 = 35\n",
      "7 x 6 = 42\n",
      "7 x 7 = 49\n",
      "7 x 8 = 56\n",
      "7 x 9 = 63\n",
      "7 x 10 = 70\n"
     ]
    }
   ],
   "source": [
    "# 2.b.i. Write some code that prompts the user for a number, then shows a multiplication table\n",
    "# up through 10 for that number.\n",
    "\n",
    "num = 7\n",
    "\n",
    "for i in range(1, 11):\n",
    "   print(num, 'x', i, '=', num*i)"
   ]
  },
  {
   "cell_type": "code",
   "execution_count": 8,
   "id": "2931e562",
   "metadata": {},
   "outputs": [
    {
     "name": "stdout",
     "output_type": "stream",
     "text": [
      "Enter number of rows: 8\n",
      "1\n",
      "22\n",
      "333\n",
      "4444\n",
      "55555\n",
      "666666\n",
      "7777777\n",
      "88888888\n"
     ]
    }
   ],
   "source": [
    "# 2.b.ii. Create a for loop that uses print to create the output shown below.\n",
    "\n",
    "n = int(input(\"Enter number of rows: \"))\n",
    "\n",
    "for i in range(1,n+1):\n",
    "    for j in range(1, i+1):\n",
    "        print(i, end=\"\")\n",
    "    print()"
   ]
  },
  {
   "cell_type": "code",
   "execution_count": 9,
   "id": "1f93822d",
   "metadata": {},
   "outputs": [
    {
     "name": "stdout",
     "output_type": "stream",
     "text": [
      "1\n",
      "2\n",
      "Fizz\n",
      "4\n",
      "Buzz\n",
      "Fizz\n",
      "7\n",
      "8\n",
      "Fizz\n",
      "Buzz\n",
      "11\n",
      "Fizz\n",
      "13\n",
      "14\n",
      "FizzBuzz\n",
      "16\n",
      "17\n",
      "Fizz\n",
      "19\n",
      "Buzz\n",
      "Fizz\n",
      "22\n",
      "23\n",
      "Fizz\n",
      "Buzz\n",
      "26\n",
      "Fizz\n",
      "28\n",
      "29\n",
      "FizzBuzz\n",
      "31\n",
      "32\n",
      "Fizz\n",
      "34\n",
      "Buzz\n",
      "Fizz\n",
      "37\n",
      "38\n",
      "Fizz\n",
      "Buzz\n",
      "41\n",
      "Fizz\n",
      "43\n",
      "44\n",
      "FizzBuzz\n",
      "46\n",
      "47\n",
      "Fizz\n",
      "49\n",
      "Buzz\n",
      "Fizz\n",
      "52\n",
      "53\n",
      "Fizz\n",
      "Buzz\n",
      "56\n",
      "Fizz\n",
      "58\n",
      "59\n",
      "FizzBuzz\n",
      "61\n",
      "62\n",
      "Fizz\n",
      "64\n",
      "Buzz\n",
      "Fizz\n",
      "67\n",
      "68\n",
      "Fizz\n",
      "Buzz\n",
      "71\n",
      "Fizz\n",
      "73\n",
      "74\n",
      "FizzBuzz\n",
      "76\n",
      "77\n",
      "Fizz\n",
      "79\n",
      "Buzz\n",
      "Fizz\n",
      "82\n",
      "83\n",
      "Fizz\n",
      "Buzz\n",
      "86\n",
      "Fizz\n",
      "88\n",
      "89\n",
      "FizzBuzz\n",
      "91\n",
      "92\n",
      "Fizz\n",
      "94\n",
      "Buzz\n",
      "Fizz\n",
      "97\n",
      "98\n",
      "Fizz\n",
      "Buzz\n"
     ]
    }
   ],
   "source": [
    "for num in range(1, 101):\n",
    "    fb = ''\n",
    "    if num % 3 == 0:\n",
    "        fb += 'Fizz'\n",
    "    if num % 5 == 0:\n",
    "        fb += 'Buzz'\n",
    "    if not fb:\n",
    "        fb = num\n",
    "    print(fb)"
   ]
  },
  {
   "cell_type": "code",
   "execution_count": null,
   "id": "cd588b2f",
   "metadata": {},
   "outputs": [],
   "source": [
    "top_output_format = \"{col_num:>8s} | {col_square:>8s} | {col_cube:>8s}\"\n",
    "lbl_num = '{:<8s}'.format('number')\n",
    "lbl_square = '{:<8s}'.format('squared')\n",
    "lbl_cube = '{:<8s}'.format('cubed')\n",
    "lbl_fill = '{:-<8s}'.format('')\n",
    "\n",
    "def output_table_of_powers(upto_number):\n",
    "    print('\\nTable for {}\\n'.format(upto_number))\n",
    "    print(top_output_format.format(col_num=lbl_num, col_square=lbl_square, col_cube=lbl_cube))\n",
    "    print(top_output_format.format(col_num=lbl_fill, col_square=lbl_fill, col_cube=lbl_fill))\n",
    "    for num in range(1, upto_number + 1):\n",
    "        print(top_output_format.format(col_num=str(num), col_square=str(num **2), col_cube=str(num ** 3)))\n",
    "\n",
    "def get_user_number_for_table():\n",
    "    go_on = 'Y'\n",
    "    \n",
    "    while go_on == 'Y':\n",
    "        user_input = input('Gimmie a positive integer to power up: ')\n",
    "        \n",
    "        if user_input.isdigit() == False:\n",
    "            print(f'{user_input} ain\\'t no positive integer. How\\'s about 5?')\n",
    "            user_input = 5\n",
    "\n",
    "        user_int = int(user_input)\n",
    "\n",
    "        if user_int > 20:\n",
    "            print('Sorry, I ain\\'t countin\\' that high. How\\'s about 20?')\n",
    "            user_int = 20\n",
    "\n",
    "        if user_int < 3:\n",
    "            print('Don\\'t wanna go that low. How\\'s about 3?')\n",
    "            user_int = 3\n",
    "\n",
    "        output_table_of_powers(user_int)\n",
    "        \n",
    "        go_on = input('Wanna try again? (Y/N) ').upper()\n",
    "        \n",
    "\n",
    "get_user_number_for_table()"
   ]
  },
  {
   "cell_type": "code",
   "execution_count": null,
   "id": "c3c2e108",
   "metadata": {},
   "outputs": [],
   "source": [
    "grade_minimums = (\n",
    "    ('A+',98.5),('A',91.5),('A-',89.5),\n",
    "    ('B+',88.5),('B',81.5),('B-',79.5),\n",
    "    ('C+',78.5),('C',71.5),('C-',69.5),\n",
    "    ('D+',68.5),('D',61.5),('D-',59.5),\n",
    "    ('F',0)\n",
    ")\n",
    "\n",
    "def get_letter_grade(numeric_grade):\n",
    "    ubound = max(100,numeric_grade + .01)\n",
    "    for grade in grade_minimums:\n",
    "        if numeric_grade < grade[1]:\n",
    "            ubound = grade[1]\n",
    "        else:\n",
    "            print('{}% is graded {}'.format(numeric_grade,grade[0]))\n",
    "            return grade[0]\n",
    "        \n",
    "assert get_letter_grade(150) == 'A+'\n",
    "assert get_letter_grade(98.4) == 'A'\n",
    "assert get_letter_grade(91) == 'A-'\n",
    "assert get_letter_grade(59.4) == 'F'\n",
    "assert get_letter_grade(81.5) == 'B'\n",
    "assert get_letter_grade(89.5) == 'A-'"
   ]
  },
  {
   "cell_type": "code",
   "execution_count": null,
   "id": "d5629cc4",
   "metadata": {},
   "outputs": [],
   "source": [
    "# 6. Create a list of dictionaries where each dictionary represents a book that you have read.\n",
    "# Each dictionary in the list should have the keys title, author, and genre. \n",
    "# Loop through the list and print out information about each book.\n",
    "\n",
    "# a. Prompt the user to enter a genre, then loop through your books list and \n",
    "# print out the titles of all the books in that genre.\n",
    "\n",
    "Books = [{'Title':'People Skills',\n",
    "          'Author': 'Robert Bolton',\n",
    "          'Genre': 'Management',\n",
    "         },\n",
    "         {'Title':'Of Mice and Men',\n",
    "          'Author': 'George Orwell',\n",
    "          'Genre': 'Fiction',\n",
    "         },\n",
    "         {'Title':'The Cat in the Hat',\n",
    "          'Author': 'Dr. Seus',\n",
    "          'Genre': 'Children',\n",
    "         }]\n",
    "\n",
    "For book in Books():\n",
    "    print(Books[3])"
   ]
  }
 ],
 "metadata": {
  "kernelspec": {
   "display_name": "Python 3 (ipykernel)",
   "language": "python",
   "name": "python3"
  },
  "language_info": {
   "codemirror_mode": {
    "name": "ipython",
    "version": 3
   },
   "file_extension": ".py",
   "mimetype": "text/x-python",
   "name": "python",
   "nbconvert_exporter": "python",
   "pygments_lexer": "ipython3",
   "version": "3.9.12"
  }
 },
 "nbformat": 4,
 "nbformat_minor": 5
}
