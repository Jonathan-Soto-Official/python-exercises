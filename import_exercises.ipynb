{
 "cells": [
  {
   "cell_type": "markdown",
   "id": "29664ada",
   "metadata": {},
   "source": [
    "<b> 1. Import and test 3 of the functions from your functions exercise file. Import each function in a different way: </b>\n",
    "<br> </br>\n",
    "1a. Run an interactive python session and import the module. Call the is_vowel function using the . syntax."
   ]
  },
  {
   "cell_type": "code",
   "execution_count": null,
   "id": "eeaacecf",
   "metadata": {},
   "outputs": [],
   "source": [
    "import functions_exercises as f"
   ]
  },
  {
   "cell_type": "code",
   "execution_count": null,
   "id": "5cac02cf",
   "metadata": {},
   "outputs": [],
   "source": [
    "f.is_vowel('a')"
   ]
  },
  {
   "cell_type": "markdown",
   "id": "4c643334",
   "metadata": {},
   "source": [
    "1b. Create a file named import_exericses.py. Within this file, use from to import the calculate_tip function directly. Call this function with values you choose and print the result."
   ]
  },
  {
   "cell_type": "code",
   "execution_count": null,
   "id": "6003c996",
   "metadata": {},
   "outputs": [],
   "source": [
    "print(f.tip_amt(.25, 10))"
   ]
  },
  {
   "cell_type": "markdown",
   "id": "232a5796",
   "metadata": {},
   "source": [
    "1c. Create a jupyter notebook named import_exercises.ipynb. Use from to import the get_letter_grade function and give it an alias. Test this function in your notebook."
   ]
  },
  {
   "cell_type": "code",
   "execution_count": null,
   "id": "dedbae1f",
   "metadata": {},
   "outputs": [],
   "source": [
    "from functions_exercises import get_letter_grade"
   ]
  },
  {
   "cell_type": "code",
   "execution_count": null,
   "id": "bcb53dd0",
   "metadata": {},
   "outputs": [],
   "source": [
    "get_letter_grade(29)"
   ]
  },
  {
   "cell_type": "markdown",
   "id": "1c5bf770",
   "metadata": {},
   "source": [
    "### <b>2. Read about and use the itertools module from the python standard library to help you solve the following problems:</b>\n",
    "\n",
    "#### - How many different ways can you combine the letters from \"abc\" with the numbers 1, 2, and 3?\n",
    "\n",
    "#### - How many different combinations are there of 2 letters from \"abcd\"?\n",
    "\n",
    "#### - How many different permutations are there of 2 letters from \"abcd\"?"
   ]
  },
  {
   "cell_type": "code",
   "execution_count": null,
   "id": "f45b128f",
   "metadata": {},
   "outputs": [],
   "source": [
    "import itertools"
   ]
  },
  {
   "cell_type": "code",
   "execution_count": null,
   "id": "47cecf85",
   "metadata": {},
   "outputs": [],
   "source": [
    "c123_combos = list(itertools.product('abc', [1, 2, 3]))\n",
    "\n",
    "print(f'There are {len(c123_combos)} different ways to combine the numbers 1, 2, and 3')\n",
    "\n",
    "list(c123_combos)"
   ]
  },
  {
   "cell_type": "code",
   "execution_count": null,
   "id": "adfd75b6",
   "metadata": {},
   "outputs": [],
   "source": [
    "abc123_combos = list(itertools.combinations('abcd', 2))\n",
    "\n",
    "print(f'There are {len(abc123_combos)} different ways you can combine the letters a, b, and c with the numbers 1, 2, and 3')\n",
    "\n",
    "list(abc123_combos)"
   ]
  },
  {
   "cell_type": "code",
   "execution_count": null,
   "id": "563fcd2b",
   "metadata": {},
   "outputs": [],
   "source": [
    "abcd_perms = list(itertools.permutations('abcd', 2))\n",
    "\n",
    "print(f'There are {len(abcd_perms)} different 2 letter permutations of the letters a, b, c, and d')\n",
    "\n",
    "list(abcd_perms)"
   ]
  },
  {
   "cell_type": "markdown",
   "id": "687fc958",
   "metadata": {},
   "source": [
    "# 3. json\n",
    "\n",
    "#### Your code should produce a list of dictionaries. Using this data, write some code that calculates and outputs the following information:\n",
    "#### Total number of users\n",
    "#### Number of active users\n",
    "#### Number of inactive users\n",
    "\n",
    "#### Grand total of balances for all users\n",
    "\n",
    "#### Average balance per user\n",
    "#### User with the lowest balance\n",
    "#### User with the highest balance\n",
    "#### Most common favorite fruit\n",
    "#### Least most common favorite fruit\n",
    "#### Total number of unread messages for all users"
   ]
  },
  {
   "cell_type": "code",
   "execution_count": null,
   "id": "76626f02",
   "metadata": {},
   "outputs": [],
   "source": [
    "import json"
   ]
  },
  {
   "cell_type": "code",
   "execution_count": null,
   "id": "c0d286f1",
   "metadata": {},
   "outputs": [],
   "source": [
    "json.list = json.load(open('profiles.json'))\n",
    "print(json.list)"
   ]
  },
  {
   "cell_type": "markdown",
   "id": "c4d733ff",
   "metadata": {},
   "source": [
    "- Total number of users = 19"
   ]
  },
  {
   "cell_type": "code",
   "execution_count": null,
   "id": "3fec439f",
   "metadata": {},
   "outputs": [],
   "source": [
    "print(f'There are {len(json.list)} users in the list of profiles.')"
   ]
  },
  {
   "cell_type": "markdown",
   "id": "fc187c6d",
   "metadata": {},
   "source": [
    "- Number of active users = 9"
   ]
  },
  {
   "cell_type": "code",
   "execution_count": null,
   "id": "415127c7",
   "metadata": {},
   "outputs": [],
   "source": [
    "print(json.list[0])\n",
    "print()\n",
    "\n",
    "active_users = 0\n",
    "\n",
    "for list_item_profile in json.list:\n",
    "    if list_item_profile['isActive'] == True:\n",
    "        active_users = active_users + 1\n",
    "    \n",
    "\n",
    "print(f'There are {active_users} active users.')"
   ]
  },
  {
   "cell_type": "markdown",
   "id": "f331e18f",
   "metadata": {},
   "source": [
    "- Number of inactive users ="
   ]
  },
  {
   "cell_type": "code",
   "execution_count": null,
   "id": "45af1724",
   "metadata": {},
   "outputs": [],
   "source": []
  }
 ],
 "metadata": {
  "kernelspec": {
   "display_name": "Python 3 (ipykernel)",
   "language": "python",
   "name": "python3"
  },
  "language_info": {
   "codemirror_mode": {
    "name": "ipython",
    "version": 3
   },
   "file_extension": ".py",
   "mimetype": "text/x-python",
   "name": "python",
   "nbconvert_exporter": "python",
   "pygments_lexer": "ipython3",
   "version": "3.9.12"
  }
 },
 "nbformat": 4,
 "nbformat_minor": 5
}
